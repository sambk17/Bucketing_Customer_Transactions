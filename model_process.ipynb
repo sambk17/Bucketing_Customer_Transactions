{
 "cells": [
  {
   "cell_type": "code",
   "execution_count": 9,
   "metadata": {},
   "outputs": [],
   "source": [
    "import src.etl as etl\n",
    "import src.one_hot_encode_pipeline as ONE\n",
    "\n",
    "import numpy as np\n",
    "import pandas as pd\n",
    "import timeit\n",
    "import datetime\n",
    "import matplotlib.pyplot as plt\n",
    "import seaborn as sns\n",
    "from collections import Counter\n",
    "import random\n",
    "import ast\n",
    "import os\n",
    "\n",
    "from sklearn.model_selection import train_test_split\n",
    "from sklearn.ensemble import RandomForestClassifier, GradientBoostingClassifier\n",
    "from sklearn.metrics import confusion_matrix\n",
    "from nltk.tokenize import sent_tokenize, word_tokenize\n",
    "from sklearn.feature_extraction.text import TfidfVectorizer\n",
    "random.seed(4612)"
   ]
  },
  {
   "cell_type": "markdown",
   "metadata": {},
   "source": [
    "## ETL Process"
   ]
  },
  {
   "cell_type": "code",
   "execution_count": 7,
   "metadata": {},
   "outputs": [],
   "source": [
    "location = 'data/public_data.csv'\n",
    "df_original = pd.read_csv(location, encoding = \"ISO-8859-1\")"
   ]
  },
  {
   "cell_type": "code",
   "execution_count": 13,
   "metadata": {},
   "outputs": [],
   "source": [
    "df_etl = etl.transform_dataframe(df_original)\n",
    "df = etl.split_categories(df_etl, df_etl.category)\n",
    "\n",
    "df_credit = df\n",
    "df_debit = df[df.amount < 0]"
   ]
  },
  {
   "cell_type": "code",
   "execution_count": 14,
   "metadata": {},
   "outputs": [
    {
     "name": "stdout",
     "output_type": "stream",
     "text": [
      "8996\n",
      "1533\n"
     ]
    }
   ],
   "source": [
    "print(len(df_credit))\n",
    "print(len(df_debit))"
   ]
  },
  {
   "cell_type": "code",
   "execution_count": 15,
   "metadata": {},
   "outputs": [],
   "source": [
    "y = df.income.values\n",
    "X = df.drop(['income'], axis=1).values\n",
    "X_train, X_test, y_train, y_test = train_test_split(X, y, test_size=0.33, random_state=4612)\n",
    "\n",
    "all_categories, one_hot_df = ONE.one_hot_get_dummies_train(X_train, \n",
    "                        column_selection=['category_1','category_2','category_3'],\n",
    "                        column_names=df.columns.drop('income'))"
   ]
  },
  {
   "cell_type": "code",
   "execution_count": 17,
   "metadata": {},
   "outputs": [],
   "source": [
    "tfidf_vectorizer = TfidfVectorizer(analyzer='word',\n",
    "                                   stop_words='english',\n",
    "                                   token_pattern=r'\\b[^\\d\\W]{3,}\\b', #u'(?![0-9]{4,})(?!\\d+-\\d+)(?!\\d+/\\d+)(?:^\\S*)',\n",
    "                                   lowercase=True)\n",
    "\n",
    "X_train_df = pd.DataFrame(X_train, columns=df.columns.drop('income')).drop(['category_1',\n",
    "                                                                           'category_2',\n",
    "                                                                           'category_3'],axis=1)\n",
    "X_train_names = X_train_df.description\n",
    "tfidf_fit = tfidf_vectorizer.fit_transform(X_train_names)"
   ]
  },
  {
   "cell_type": "code",
   "execution_count": 18,
   "metadata": {},
   "outputs": [],
   "source": [
    "tfidf_df = pd.DataFrame(tfidf_fit.toarray(), columns=tfidf_vectorizer.get_feature_names())\n",
    "\n",
    "X_train_hot_tfidf = pd.concat([X_train_df.drop(['description'], axis=1), one_hot_df, tfidf_df], axis=1).values"
   ]
  },
  {
   "cell_type": "code",
   "execution_count": 19,
   "metadata": {},
   "outputs": [
    {
     "data": {
      "text/plain": [
       "2554"
      ]
     },
     "execution_count": 19,
     "metadata": {},
     "output_type": "execute_result"
    }
   ],
   "source": [
    "len(X_train_hot_tfidf[0])"
   ]
  },
  {
   "cell_type": "code",
   "execution_count": 20,
   "metadata": {},
   "outputs": [
    {
     "data": {
      "text/plain": [
       "array([0, 0, 0, ..., 0, 0, 0])"
      ]
     },
     "execution_count": 20,
     "metadata": {},
     "output_type": "execute_result"
    }
   ],
   "source": [
    "y_train"
   ]
  },
  {
   "cell_type": "markdown",
   "metadata": {},
   "source": [
    "### Test Set"
   ]
  },
  {
   "cell_type": "code",
   "execution_count": 22,
   "metadata": {},
   "outputs": [],
   "source": [
    "hot_test_df = ONE.one_hot_get_dummies_test(X_test,\n",
    "                        all_categories=all_categories,\n",
    "                        column_selection=['category_1','category_2','category_3'],\n",
    "                        column_names=df.columns.drop('income'))"
   ]
  },
  {
   "cell_type": "code",
   "execution_count": 23,
   "metadata": {},
   "outputs": [],
   "source": [
    "X_test_df = pd.DataFrame(X_test, columns=df.columns.drop('income')).drop(['category_1',\n",
    "                                                                          'category_2',\n",
    "                                                                          'category_3'],axis=1)\n",
    "X_test_names = X_test_df['description']\n",
    "tfidf_transform = tfidf_vectorizer.transform(X_test_names)\n",
    "tfidf_transform_df = pd.DataFrame(tfidf_transform.toarray(), columns=tfidf_vectorizer.get_feature_names())"
   ]
  },
  {
   "cell_type": "code",
   "execution_count": 24,
   "metadata": {},
   "outputs": [],
   "source": [
    "X_test_new = pd.concat([X_test_df.drop(['description'], axis=1), hot_test_df, tfidf_transform_df], axis=1).values"
   ]
  },
  {
   "cell_type": "code",
   "execution_count": 25,
   "metadata": {},
   "outputs": [
    {
     "data": {
      "text/plain": [
       "2554"
      ]
     },
     "execution_count": 25,
     "metadata": {},
     "output_type": "execute_result"
    }
   ],
   "source": [
    "len(X_test_new[0])"
   ]
  },
  {
   "cell_type": "code",
   "execution_count": 17,
   "metadata": {},
   "outputs": [],
   "source": [
    "#test[test.isna().any(axis=1)]"
   ]
  },
  {
   "cell_type": "code",
   "execution_count": 26,
   "metadata": {},
   "outputs": [],
   "source": [
    "random_forest = RandomForestClassifier(n_estimators=100,\n",
    "                                      class_weight={0:1,1:1}) #1:10000000\n",
    "random_forest.fit(X_train_hot_tfidf, y_train)\n",
    "rf_pred = random_forest.predict(X_test_new)"
   ]
  },
  {
   "cell_type": "code",
   "execution_count": 27,
   "metadata": {},
   "outputs": [
    {
     "name": "stdout",
     "output_type": "stream",
     "text": [
      "FP: 24\n",
      "FN: 3\n",
      "TP: 58\n",
      "TN: 2884\n",
      "Sum: 2969\n"
     ]
    }
   ],
   "source": [
    "FP = np.sum((y_test == 1.0) & (rf_pred == 0.0))\n",
    "FN = np.sum((y_test == 0.0) & (rf_pred == 1.0))\n",
    "TP = np.sum((y_test == 1.0) & (rf_pred == 1.0))\n",
    "TN = np.sum((y_test == 0.0) & (rf_pred == 0.0))\n",
    "\n",
    "print(\"FP: %s\" % FP)\n",
    "print(\"FN: %s\" % FN)\n",
    "print(\"TP: %s\" % TP)\n",
    "print(\"TN: %s\" % TN)\n",
    "print(\"Sum: %s\" % (FP+FN+TP+TN))"
   ]
  },
  {
   "cell_type": "code",
   "execution_count": 28,
   "metadata": {},
   "outputs": [
    {
     "data": {
      "text/plain": [
       "array([[2884,    3],\n",
       "       [  24,   58]])"
      ]
     },
     "execution_count": 28,
     "metadata": {},
     "output_type": "execute_result"
    }
   ],
   "source": [
    "confusion_matrix(y_test, rf_pred)"
   ]
  },
  {
   "cell_type": "code",
   "execution_count": 30,
   "metadata": {},
   "outputs": [],
   "source": [
    "feature_importance = random_forest.feature_importances_\n",
    "col_names = pd.concat([X_train_df.drop(['description'], axis=1), one_hot_df, tfidf_df], axis=1).columns"
   ]
  },
  {
   "cell_type": "code",
   "execution_count": 32,
   "metadata": {},
   "outputs": [
    {
     "data": {
      "text/plain": [
       "['amount',\n",
       " 0.19839315068061267,\n",
       " 'category_2__Payroll',\n",
       " 0.10674285676232448,\n",
       " 'deposit',\n",
       " 0.04948680240570414,\n",
       " 'payroll',\n",
       " 0.025475963492013563,\n",
       " 'rcv',\n",
       " 0.02122246864445349,\n",
       " 'amount_tens',\n",
       " 0.021063910012271855,\n",
       " 'category_2__Deposit',\n",
       " 0.02014985209915887,\n",
       " 'pmnt',\n",
       " 0.014299370140232592,\n",
       " 'dir',\n",
       " 0.012964089731597102,\n",
       " 'payr',\n",
       " 0.011323450361074383,\n",
       " 'Friday',\n",
       " 0.010993753215955176,\n",
       " 'external',\n",
       " 0.010536423138202205]"
      ]
     },
     "execution_count": 32,
     "metadata": {},
     "output_type": "execute_result"
    }
   ],
   "source": [
    "top_list = []\n",
    "features = []\n",
    "for value in np.argsort(feature_importance)[::-1][0:12]:\n",
    "    top_list.append(col_names[value])\n",
    "    top_list.append(feature_importance[value])\n",
    "top_list"
   ]
  },
  {
   "cell_type": "code",
   "execution_count": 35,
   "metadata": {},
   "outputs": [
    {
     "name": "stderr",
     "output_type": "stream",
     "text": [
      "/Users/sambk/anaconda3/lib/python3.6/site-packages/scipy/stats/stats.py:1713: FutureWarning: Using a non-tuple sequence for multidimensional indexing is deprecated; use `arr[tuple(seq)]` instead of `arr[seq]`. In the future this will be interpreted as an array index, `arr[np.array(seq)]`, which will result either in an error or a different result.\n",
      "  return np.add.reduce(sorted[indexer] * weights, axis=axis) / sumval\n"
     ]
    },
    {
     "data": {
      "image/png": "[encoded data removed]",
      "text/plain": [
       "<Figure size 720x504 with 1 Axes>"
      ]
     },
     "metadata": {},
     "output_type": "display_data"
    }
   ],
   "source": [
    "fig, ax = plt.subplots(figsize=(10,7))\n",
    "sns.distplot(-(df.amount), bins=2000)\n",
    "plt.xlim([0,1750])\n",
    "plt.ylim([0,0.001])\n",
    "plt.xlabel(\"Debit Amount\", fontsize=12)\n",
    "plt.ylabel(\"Density\", fontsize=12)\n",
    "plt.title(\"Density Plot of Debit Transactions\", fontsize=15)\n",
    "plt.show()"
   ]
  }
 ],
 "metadata": {
  "kernelspec": {
   "display_name": "Python 3",
   "language": "python",
   "name": "python3"
  },
  "language_info": {
   "codemirror_mode": {
    "name": "ipython",
    "version": 3
   },
   "file_extension": ".py",
   "mimetype": "text/x-python",
   "name": "python",
   "nbconvert_exporter": "python",
   "pygments_lexer": "ipython3",
   "version": "3.6.6"
  }
 },
 "nbformat": 4,
 "nbformat_minor": 2
}
